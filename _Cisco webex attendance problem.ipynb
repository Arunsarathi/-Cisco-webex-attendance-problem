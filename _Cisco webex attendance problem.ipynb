{
 "cells": [
  {
   "cell_type": "code",
   "execution_count": null,
   "metadata": {},
   "outputs": [],
   "source": [
    "# step-1\n",
    "# save as attendance.csv to attendance.xlsx"
   ]
  },
  {
   "cell_type": "code",
   "execution_count": null,
   "metadata": {},
   "outputs": [],
   "source": [
    "import pandas as pd\n",
    "import numpy as np\n"
   ]
  },
  {
   "cell_type": "code",
   "execution_count": null,
   "metadata": {},
   "outputs": [],
   "source": [
    "df1 = pd.read_excel('attendance.xlsx')\n",
    "df1.head()"
   ]
  },
  {
   "cell_type": "code",
   "execution_count": null,
   "metadata": {},
   "outputs": [],
   "source": [
    "print('no. of name-duplicated',df1.Name.duplicated().sum())\n",
    "\n",
    "print('no. of Email-duplicated',df1.Email.duplicated().sum())"
   ]
  },
  {
   "cell_type": "code",
   "execution_count": null,
   "metadata": {},
   "outputs": [],
   "source": [
    "df2=df1[['Name', 'Email','Duration']]\n",
    "df2['Duration']=df2['Duration'].str.replace(\"mins\",\"\")\n",
    "df2['Duration']=df2['Duration'].str.replace(\"min\",\"\")\n",
    "df2['Duration']=df2['Duration'].astype(int)\n",
    "dff=df2.copy()\n",
    "df2.drop_duplicates(subset=['Email'])\n",
    "dff=df2.copy()\n",
    "df8=df2.groupby('Email').agg({'Duration': 'sum', 'Name': lambda x: '//'.join(x)})\n",
    "df8['Name']=df8.Name.str.split(\"//\").str.get(0)\n",
    "df8.to_excel(\"out.xlsx\") \n",
    "df9 = pd.read_excel('out.xlsx')\n",
    "df9=df9[['Name','Email','Duration']].copy()\n",
    "df9.sort_values([\"Duration\"], axis=0, \n",
    "                 ascending=True, inplace=True) \n",
    "df9.head()\n"
   ]
  },
  {
   "cell_type": "code",
   "execution_count": null,
   "metadata": {},
   "outputs": [],
   "source": [
    "df9.to_excel(\"FDP_Day_1.xlsx\") "
   ]
  }
 ],
 "metadata": {
  "kernelspec": {
   "display_name": "Python 3",
   "language": "python",
   "name": "python3"
  },
  "language_info": {
   "codemirror_mode": {
    "name": "ipython",
    "version": 3
   },
   "file_extension": ".py",
   "mimetype": "text/x-python",
   "name": "python",
   "nbconvert_exporter": "python",
   "pygments_lexer": "ipython3",
   "version": "3.8.5"
  }
 },
 "nbformat": 4,
 "nbformat_minor": 4
}
